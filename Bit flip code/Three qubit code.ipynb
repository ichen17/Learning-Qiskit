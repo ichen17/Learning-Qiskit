{
 "cells": [
  {
   "cell_type": "code",
   "execution_count": 1,
   "metadata": {},
   "outputs": [],
   "source": [
    "from qiskit import *\n",
    "import numpy as np\n",
    "from random import random\n",
    "from qiskit.extensions import Initialize\n",
    "from qiskit.visualization import plot_histogram, plot_bloch_multivector\n",
    "\n",
    "\n",
    "\n"
   ]
  },
  {
   "cell_type": "code",
   "execution_count": 2,
   "metadata": {},
   "outputs": [],
   "source": [
    "## SETUP\n",
    "# Protocol uses 3 qubits and 1 classical bit in a register\n",
    "qr = QuantumRegister(3, name=\"q\")    # Protocol uses 4 qubits\n",
    "cr1 = ClassicalRegister(1, name=\"cr1\") # and 2 classical bit\n",
    "#cr2 = ClassicalRegister(1, name=\"cr2\")\n",
    "bit_flip_circuit = QuantumCircuit(qr,cr1)"
   ]
  },
  {
   "cell_type": "code",
   "execution_count": 3,
   "metadata": {},
   "outputs": [],
   "source": [
    "def encoding(qc, q0, q1, q2):\n",
    "    \"\"\"Creates encoding process using qubits q0 & q1 & q2\"\"\"\n",
    "    qc.cx(q0,q1) # CNOT with q1 as control and q0 as target\n",
    "    qc.cx(q0,q2) # CNOT with q2 as control and q0 as target"
   ]
  },
  {
   "cell_type": "code",
   "execution_count": 4,
   "metadata": {},
   "outputs": [],
   "source": [
    "# initialization instruction to create  \n",
    "# |ψ⟩ from the state |0⟩:  \n",
    "p = 0.25 # p stands for the probability of fliping the state of the qubit\n",
    "psi = [np.sqrt(p), np.sqrt(1-p)]\n",
    "init_gate = Initialize(psi) # initialize the superposition state\n",
    "init_gate.label = \"init\""
   ]
  },
  {
   "cell_type": "code",
   "execution_count": 5,
   "metadata": {},
   "outputs": [],
   "source": [
    "def measure(qc, q0, cr):\n",
    "    \"\"\"Measures qubit q0 \"\"\"\n",
    "    qc.barrier()\n",
    "    qc.measure(q0,cr)"
   ]
  },
  {
   "cell_type": "code",
   "execution_count": 6,
   "metadata": {},
   "outputs": [],
   "source": [
    "\"\"\"\n",
    "Er = QuantumCircuit(qr,cr1,name='Error simulator')\n",
    "Er.append(init_gate, [3])\n",
    "measure(Er, 3, 0)\n",
    "Er.x(0).c_if(cr1, 0)\n",
    "Er.append(init_gate, [3])\n",
    "measure(Er, 3, 0)\n",
    "Er.x(1).c_if(cr1, 0)\n",
    "Er.append(init_gate, [3])\n",
    "measure(Er, 3, 0)\n",
    "Er.x(2).c_if(cr1, 0)\n",
    "\n",
    "\n",
    "%matplotlib inline\n",
    "Er.draw(output='mpl')\n",
    "\"\"\"\n",
    "def error_simulation(qc, q0, q1, q2, q3):\n",
    "    \n",
    "    #Creates error simulation using qubits q0 & q1 & q2 & q3\n",
    "    qc.append(init_gate, [3]) # create the superposition state for |q3>\n",
    "    measure(qc, 3, 0) # measure the state on |q3>\n",
    "    qc.x(q0).c_if(cr1, 0) # apply x gate on q0 if |0> was measured by |q3>\n",
    "    qc.append(init_gate, [3])\n",
    "    measure(qc, 3, 0)\n",
    "    qc.x(q1).c_if(cr1, 0) # apply x gate on q1 if |0> was measured by |q3>\n",
    "    qc.append(init_gate, [3])\n",
    "    measure(qc, 3, 0)\n",
    "    qc.x(q2).c_if(cr1, 0) # apply x gate on q2 if |0> was measured by |q3>\n"
   ]
  },
  {
   "cell_type": "code",
   "execution_count": 7,
   "metadata": {},
   "outputs": [],
   "source": [
    "def decoding(qc, q0, q1, q2):\n",
    "    \"\"\"Creates decoding process using qubits q0 & q1 & q2\"\"\"\n",
    "    qc.cx(q0,q1) # CNOT with q1 as control and q0 as target\n",
    "    qc.cx(q0,q2) # CNOT with q2 as control and q0 as target\n",
    "    qc.ccx(q2,q1,q0) # Apply a Toffoli gate |011> <-> |111>"
   ]
  },
  {
   "cell_type": "code",
   "execution_count": 8,
   "metadata": {},
   "outputs": [
    {
     "data": {
      "image/png": "[encoded data removed]",
      "text/plain": [
       "<Figure size 695.375x264.88 with 1 Axes>"
      ]
     },
     "execution_count": 8,
     "metadata": {},
     "output_type": "execute_result"
    }
   ],
   "source": [
    "encoding(bit_flip_circuit, 0, 1, 2)\n",
    "\n",
    "# step 2. error simulation\n",
    "#bit_flip_circuit.append(Er,[0,1,2,3])\n",
    "#error_simulation(bit_flip_circuit, 0, 1, 2, p)\n",
    "bit_flip_circuit.barrier()\n",
    "\n",
    "bit_flip_circuit.rx(np.pi/3,0)# Here rotate the spin around x axis by pi/3 so that the state will become 1/2|0>+sqrt(3)/2|1>\n",
    "\n",
    "bit_flip_circuit.rx(np.pi/3,1)# Here rotate the spin around x axis by pi/3 so that the state will become 1/2|0>+sqrt(3)/2|1>\n",
    "\n",
    "bit_flip_circuit.rx(np.pi/3,2)# Here rotate the spin around x axis by pi/3 so that the state will become 1/2|0>+sqrt(3)/2|1>\n",
    "\n",
    "bit_flip_circuit.barrier()\n",
    "\n",
    "# step 3. decoding\n",
    "decoding(bit_flip_circuit, 0, 1, 2)\n",
    "\n",
    "# step 4. measurement\n",
    "measure(bit_flip_circuit, 0, 0)\n",
    "\n",
    "# View the circuit:\n",
    "%matplotlib inline\n",
    "bit_flip_circuit.draw(output='mpl')"
   ]
  },
  {
   "cell_type": "code",
   "execution_count": 9,
   "metadata": {},
   "outputs": [
    {
     "data": {
      "image/png": "[encoded data removed]",
      "text/plain": [
       "<Figure size 504x360 with 1 Axes>"
      ]
     },
     "execution_count": 9,
     "metadata": {},
     "output_type": "execute_result"
    }
   ],
   "source": [
    "\n",
    "backend = BasicAer.get_backend('qasm_simulator')\n",
    "counts = execute(bit_flip_circuit, backend, shots=1024).result().get_counts() # No. of measurement shots = 1024\n",
    "plot_histogram(counts)"
   ]
  },
  {
   "cell_type": "markdown",
   "metadata": {},
   "source": [
    "Which is higher than original probability 75% $(\\cos^2(\\pi/6))$"
   ]
  },
  {
   "cell_type": "code",
   "execution_count": null,
   "metadata": {},
   "outputs": [],
   "source": []
  },
  {
   "cell_type": "code",
   "execution_count": null,
   "metadata": {},
   "outputs": [],
   "source": []
  }
 ],
 "metadata": {
  "kernelspec": {
   "display_name": "Python 3",
   "language": "python",
   "name": "python3"
  },
  "language_info": {
   "codemirror_mode": {
    "name": "ipython",
    "version": 3
   },
   "file_extension": ".py",
   "mimetype": "text/x-python",
   "name": "python",
   "nbconvert_exporter": "python",
   "pygments_lexer": "ipython3",
   "version": "3.8.0"
  }
 },
 "nbformat": 4,
 "nbformat_minor": 2
}
