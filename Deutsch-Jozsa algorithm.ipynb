{
 "cells": [
  {
   "cell_type": "code",
   "execution_count": 1,
   "metadata": {},
   "outputs": [],
   "source": [
    "from qiskit import *\n",
    "import numpy as np\n",
    "from qiskit.visualization import plot_histogram, plot_bloch_multivector"
   ]
  },
  {
   "cell_type": "code",
   "execution_count": 2,
   "metadata": {},
   "outputs": [],
   "source": [
    "n = 4           #   2^n : # of possible combination of 4 bit.\n",
    "DJ_circuit = QuantumCircuit(n+1) "
   ]
  },
  {
   "cell_type": "markdown",
   "metadata": {},
   "source": [
    "# Balence Oracle"
   ]
  },
  {
   "cell_type": "code",
   "execution_count": 3,
   "metadata": {},
   "outputs": [
    {
     "data": {
      "text/html": [
       "<pre style=\"word-wrap: normal;white-space: pre;background: #fff0;line-height: 1.1;font-family: &quot;Courier New&quot;,Courier,monospace\">                         \n",
       "q_0: ──■─────────────────\n",
       "       │                 \n",
       "q_1: ──┼────■────────────\n",
       "       │    │            \n",
       "q_2: ──┼────┼────■───────\n",
       "       │    │    │       \n",
       "q_3: ──┼────┼────┼────■──\n",
       "     ┌─┴─┐┌─┴─┐┌─┴─┐┌─┴─┐\n",
       "q_4: ┤ X ├┤ X ├┤ X ├┤ X ├\n",
       "     └───┘└───┘└───┘└───┘</pre>"
      ],
      "text/plain": [
       "                         \n",
       "q_0: ──■─────────────────\n",
       "       │                 \n",
       "q_1: ──┼────■────────────\n",
       "       │    │            \n",
       "q_2: ──┼────┼────■───────\n",
       "       │    │    │       \n",
       "q_3: ──┼────┼────┼────■──\n",
       "     ┌─┴─┐┌─┴─┐┌─┴─┐┌─┴─┐\n",
       "q_4: ┤ X ├┤ X ├┤ X ├┤ X ├\n",
       "     └───┘└───┘└───┘└───┘"
      ]
     },
     "execution_count": 3,
     "metadata": {},
     "output_type": "execute_result"
    }
   ],
   "source": [
    "Oracle=QuantumCircuit(n+1)\n",
    "\n",
    "#Ouput 1\n",
    "\n",
    "Oracle.cx(0, n)\n",
    "\n",
    "Oracle.cx(1, n)\n",
    "\n",
    "Oracle.cx(2, n)\n",
    "\n",
    "Oracle.cx(3, n)\n",
    "\n",
    "#Ouput 0\n",
    "#Do nothing\n",
    "\n",
    "Oracle.draw()\n",
    "\n"
   ]
  },
  {
   "cell_type": "markdown",
   "metadata": {},
   "source": [
    "# Constant Oracle"
   ]
  },
  {
   "cell_type": "code",
   "execution_count": 4,
   "metadata": {},
   "outputs": [
    {
     "data": {
      "text/html": [
       "<pre style=\"word-wrap: normal;white-space: pre;background: #fff0;line-height: 1.1;font-family: &quot;Courier New&quot;,Courier,monospace\">          \n",
       "q_0: ─────\n",
       "          \n",
       "q_1: ─────\n",
       "          \n",
       "q_2: ─────\n",
       "          \n",
       "q_3: ─────\n",
       "     ┌───┐\n",
       "q_4: ┤ X ├\n",
       "     └───┘</pre>"
      ],
      "text/plain": [
       "          \n",
       "q_0: ─────\n",
       "          \n",
       "q_1: ─────\n",
       "          \n",
       "q_2: ─────\n",
       "          \n",
       "q_3: ─────\n",
       "     ┌───┐\n",
       "q_4: ┤ X ├\n",
       "     └───┘"
      ]
     },
     "execution_count": 4,
     "metadata": {},
     "output_type": "execute_result"
    }
   ],
   "source": [
    "Oracle=QuantumCircuit(n+1)\n",
    "\n",
    "#Ouput 1\n",
    "Oracle.x(n)\n",
    "\n",
    "#Ouput 0\n",
    "#Do nothing\n",
    "\n",
    "Oracle.draw()"
   ]
  },
  {
   "cell_type": "markdown",
   "metadata": {},
   "source": [
    "# Quantum Circuit"
   ]
  },
  {
   "cell_type": "code",
   "execution_count": 5,
   "metadata": {},
   "outputs": [
    {
     "data": {
      "image/png": "[encoded data removed]",
      "text/plain": [
       "<Figure size 628.397x385.28 with 1 Axes>"
      ]
     },
     "execution_count": 5,
     "metadata": {},
     "output_type": "execute_result"
    }
   ],
   "source": [
    "Dj_circuit=QuantumCircuit(n+1,n)\n",
    "\n",
    "oracle_gate = Oracle.to_gate()\n",
    "oracle_gate.name = \"Oracle\"\n",
    "\n",
    "for i in range(n):\n",
    "    Dj_circuit.h(i)\n",
    "\n",
    "Dj_circuit.x(4)\n",
    "\n",
    "Dj_circuit.h(4)\n",
    "\n",
    "Dj_circuit.append(oracle_gate, range(n+1))\n",
    "\n",
    "for i in range(n):\n",
    "    Dj_circuit.h(i)\n",
    "    \n",
    "for i in range(n):\n",
    "    Dj_circuit.measure(i, i)\n",
    "\n",
    "Dj_circuit.draw(output='mpl')"
   ]
  }
 ],
 "metadata": {
  "kernelspec": {
   "display_name": "Python 3",
   "language": "python",
   "name": "python3"
  },
  "language_info": {
   "codemirror_mode": {
    "name": "ipython",
    "version": 3
   },
   "file_extension": ".py",
   "mimetype": "text/x-python",
   "name": "python",
   "nbconvert_exporter": "python",
   "pygments_lexer": "ipython3",
   "version": "3.8.0"
  }
 },
 "nbformat": 4,
 "nbformat_minor": 2
}
