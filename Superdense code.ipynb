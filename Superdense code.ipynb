{
 "cells": [
  {
   "cell_type": "code",
   "execution_count": null,
   "metadata": {},
   "outputs": [],
   "source": [
    "from qiskit import *\n",
    "import numpy as np\n",
    "from qiskit.visualization import plot_histogram"
   ]
  },
  {
   "cell_type": "code",
   "execution_count": null,
   "metadata": {},
   "outputs": [],
   "source": [
    "qb_Alice = QuantumRegister(1, name='qr') # Alice's qubit\n",
    "qb_Bob = QuantumRegister(1, name='qr1')  # Bob's qubit\n",
    "Superdense_Code = QuantumCircuit(qb_Alice, qb_Bob)"
   ]
  },
  {
   "cell_type": "code",
   "execution_count": null,
   "metadata": {},
   "outputs": [],
   "source": [
    "def buid_Bell_pair(qc,q1,q2): #To build up the a bell pair state\n",
    "    qc.h(q1)          #Applying the Hadamard gate on qubit for alice\n",
    "    qc.cx(q1,q2)      #Applying the Cnot gate with the control qubit Alice's and target qubit bob's"
   ]
  },
  {
   "cell_type": "code",
   "execution_count": null,
   "metadata": {},
   "outputs": [],
   "source": [
    "def operation_from_Alice(qc,q1,classical_info): \n",
    "    if classical_info =='00': #The classical information Alice want to send\n",
    "        return\n",
    "    elif classical_info =='01':#The classical information Alice want to send\n",
    "        qc.z(q1)\n",
    "    elif classical_info =='10':#The classical information Alice want to send\n",
    "        qc.x(q1)\n",
    "    else:  #'11': #The classical information Alice want to send\n",
    "        qc.x(q1)\n",
    "        qc.z(q1)\n",
    "    "
   ]
  },
  {
   "cell_type": "code",
   "execution_count": null,
   "metadata": {},
   "outputs": [],
   "source": [
    "def Bell_decoding(qc,q1,q2): # In this step, Bob get the qubit operated by Alice and another qubit of Bell pair state.\n",
    "    qc.cx(q1,q2)             # Bob applies the CNOT gate with the control qubit Alice's and target qubit bob's\n",
    "    qc.h(q1)                 # Applying the Hadamard gate on qubit for Alice's qubit"
   ]
  },
  {
   "cell_type": "code",
   "execution_count": null,
   "metadata": {},
   "outputs": [],
   "source": [
    "classical_info='01' # The classical information Alice wants to send "
   ]
  },
  {
   "cell_type": "code",
   "execution_count": null,
   "metadata": {},
   "outputs": [],
   "source": [
    "buid_Bell_pair(Superdense_Code, 0, 1)\n",
    "\n",
    "Superdense_Code.barrier()\n",
    "\n",
    "operation_from_Alice(Superdense_Code,0,classical_info)\n",
    "\n",
    "Superdense_Code.barrier()\n",
    "\n",
    "Bell_decoding(Superdense_Code,0,1)\n",
    "\n",
    "Superdense_Code.measure_all() #measure all of qubits\n",
    "\n",
    "Superdense_Code.draw(output = \"mpl\")"
   ]
  },
  {
   "cell_type": "code",
   "execution_count": null,
   "metadata": {},
   "outputs": [],
   "source": [
    "backend = Aer.get_backend('qasm_simulator')\n",
    "job_sim = execute(Superdense_Code, backend, shots=10)\n",
    "sim_result = job_sim.result()\n",
    "\n",
    "measurement_result = sim_result.get_counts(Superdense_Code)\n",
    "print(measurement_result)\n",
    "plot_histogram(measurement_result)"
   ]
  },
  {
   "cell_type": "code",
   "execution_count": null,
   "metadata": {},
   "outputs": [],
   "source": []
  }
 ],
 "metadata": {
  "kernelspec": {
   "display_name": "Python 3",
   "language": "python",
   "name": "python3"
  },
  "language_info": {
   "codemirror_mode": {
    "name": "ipython",
    "version": 3
   },
   "file_extension": ".py",
   "mimetype": "text/x-python",
   "name": "python",
   "nbconvert_exporter": "python",
   "pygments_lexer": "ipython3",
   "version": "3.8.0"
  }
 },
 "nbformat": 4,
 "nbformat_minor": 2
}
