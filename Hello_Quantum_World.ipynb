{
  "nbformat": 4,
  "nbformat_minor": 0,
  "metadata": {
    "colab": {
      "name": "Hello Quantum World.ipynb",
      "provenance": [],
      "collapsed_sections": []
    },
    "kernelspec": {
      "name": "python3",
      "display_name": "Python 3"
    }
  },
  "cells": [
    {
      "cell_type": "markdown",
      "metadata": {
        "id": "DJxj6eukJi5K"
      },
      "source": [
        "# Hello Quantum World !!!\n",
        "This notebook covers the basic implementation of superposition and entanglement on real quantum chipset. "
      ]
    },
    {
      "cell_type": "code",
      "metadata": {
        "colab": {
          "base_uri": "https://localhost:8080/"
        },
        "id": "m5oTE1rEt4m1",
        "outputId": "a37dc9a5-4a1c-4907-ce89-315e781514a5"
      },
      "source": [
        "pip install pylatexenc"
      ],
      "execution_count": 1,
      "outputs": [
        {
          "output_type": "stream",
          "text": [
            "Requirement already satisfied: pylatexenc in /usr/local/lib/python3.6/dist-packages (2.8)\n"
          ],
          "name": "stdout"
        }
      ]
    },
    {
      "cell_type": "code",
      "metadata": {
        "id": "0siF0EYmIII3",
        "colab": {
          "base_uri": "https://localhost:8080/"
        },
        "outputId": "11eb4709-098b-46f2-d3c7-74a5e761c667"
      },
      "source": [
        "!pip install qiskit"
      ],
      "execution_count": 2,
      "outputs": [
        {
          "output_type": "stream",
          "text": [
            "Requirement already satisfied: qiskit in /usr/local/lib/python3.6/dist-packages (0.23.1)\n",
            "Requirement already satisfied: qiskit-aqua==0.8.1 in /usr/local/lib/python3.6/dist-packages (from qiskit) (0.8.1)\n",
            "Requirement already satisfied: qiskit-terra==0.16.1 in /usr/local/lib/python3.6/dist-packages (from qiskit) (0.16.1)\n",
            "Requirement already satisfied: qiskit-ibmq-provider==0.11.1 in /usr/local/lib/python3.6/dist-packages (from qiskit) (0.11.1)\n",
            "Requirement already satisfied: qiskit-ignis==0.5.1 in /usr/local/lib/python3.6/dist-packages (from qiskit) (0.5.1)\n",
            "Requirement already satisfied: qiskit-aer==0.7.1 in /usr/local/lib/python3.6/dist-packages (from qiskit) (0.7.1)\n",
            "Requirement already satisfied: setuptools>=40.1.0 in /usr/local/lib/python3.6/dist-packages (from qiskit-aqua==0.8.1->qiskit) (50.3.2)\n",
            "Requirement already satisfied: quandl in /usr/local/lib/python3.6/dist-packages (from qiskit-aqua==0.8.1->qiskit) (3.5.3)\n",
            "Requirement already satisfied: h5py in /usr/local/lib/python3.6/dist-packages (from qiskit-aqua==0.8.1->qiskit) (2.10.0)\n",
            "Requirement already satisfied: psutil>=5 in /usr/local/lib/python3.6/dist-packages (from qiskit-aqua==0.8.1->qiskit) (5.4.8)\n",
            "Requirement already satisfied: fastdtw in /usr/local/lib/python3.6/dist-packages (from qiskit-aqua==0.8.1->qiskit) (0.3.4)\n",
            "Requirement already satisfied: scikit-learn>=0.20.0 in /usr/local/lib/python3.6/dist-packages (from qiskit-aqua==0.8.1->qiskit) (0.22.2.post1)\n",
            "Requirement already satisfied: scipy>=1.4 in /usr/local/lib/python3.6/dist-packages (from qiskit-aqua==0.8.1->qiskit) (1.4.1)\n",
            "Requirement already satisfied: retworkx>=0.5.0 in /usr/local/lib/python3.6/dist-packages (from qiskit-aqua==0.8.1->qiskit) (0.6.0)\n",
            "Requirement already satisfied: yfinance in /usr/local/lib/python3.6/dist-packages (from qiskit-aqua==0.8.1->qiskit) (0.1.55)\n",
            "Requirement already satisfied: docplex in /usr/local/lib/python3.6/dist-packages (from qiskit-aqua==0.8.1->qiskit) (2.18.200)\n",
            "Requirement already satisfied: sympy>=1.3 in /usr/local/lib/python3.6/dist-packages (from qiskit-aqua==0.8.1->qiskit) (1.7)\n",
            "Requirement already satisfied: numpy>=1.17 in /usr/local/lib/python3.6/dist-packages (from qiskit-aqua==0.8.1->qiskit) (1.18.5)\n",
            "Requirement already satisfied: dlx in /usr/local/lib/python3.6/dist-packages (from qiskit-aqua==0.8.1->qiskit) (1.0.4)\n",
            "Requirement already satisfied: pandas in /usr/local/lib/python3.6/dist-packages (from qiskit-aqua==0.8.1->qiskit) (1.1.4)\n",
            "Requirement already satisfied: dill>=0.3 in /usr/local/lib/python3.6/dist-packages (from qiskit-terra==0.16.1->qiskit) (0.3.3)\n",
            "Requirement already satisfied: jsonschema>=2.6 in /usr/local/lib/python3.6/dist-packages (from qiskit-terra==0.16.1->qiskit) (2.6.0)\n",
            "Requirement already satisfied: python-constraint>=1.4 in /usr/local/lib/python3.6/dist-packages (from qiskit-terra==0.16.1->qiskit) (1.4.0)\n",
            "Requirement already satisfied: networkx>=2.2 in /usr/local/lib/python3.6/dist-packages (from qiskit-terra==0.16.1->qiskit) (2.5)\n",
            "Requirement already satisfied: fastjsonschema>=2.10 in /usr/local/lib/python3.6/dist-packages (from qiskit-terra==0.16.1->qiskit) (2.14.5)\n",
            "Requirement already satisfied: contextvars>=2.4; python_version < \"3.7\" in /usr/local/lib/python3.6/dist-packages (from qiskit-terra==0.16.1->qiskit) (2.4)\n",
            "Requirement already satisfied: python-dateutil>=2.8.0 in /usr/local/lib/python3.6/dist-packages (from qiskit-terra==0.16.1->qiskit) (2.8.1)\n",
            "Requirement already satisfied: ply>=3.10 in /usr/local/lib/python3.6/dist-packages (from qiskit-terra==0.16.1->qiskit) (3.11)\n",
            "Requirement already satisfied: requests-ntlm>=1.1.0 in /usr/local/lib/python3.6/dist-packages (from qiskit-ibmq-provider==0.11.1->qiskit) (1.1.0)\n",
            "Requirement already satisfied: websockets>=8 in /usr/local/lib/python3.6/dist-packages (from qiskit-ibmq-provider==0.11.1->qiskit) (8.1)\n",
            "Requirement already satisfied: urllib3>=1.21.1 in /usr/local/lib/python3.6/dist-packages (from qiskit-ibmq-provider==0.11.1->qiskit) (1.24.3)\n",
            "Requirement already satisfied: nest-asyncio!=1.1.0,>=1.0.0 in /usr/local/lib/python3.6/dist-packages (from qiskit-ibmq-provider==0.11.1->qiskit) (1.4.3)\n",
            "Requirement already satisfied: requests>=2.19 in /usr/local/lib/python3.6/dist-packages (from qiskit-ibmq-provider==0.11.1->qiskit) (2.23.0)\n",
            "Requirement already satisfied: cython>=0.27.1 in /usr/local/lib/python3.6/dist-packages (from qiskit-aer==0.7.1->qiskit) (0.29.21)\n",
            "Requirement already satisfied: pybind11>=2.4 in /usr/local/lib/python3.6/dist-packages (from qiskit-aer==0.7.1->qiskit) (2.6.1)\n",
            "Requirement already satisfied: six in /usr/local/lib/python3.6/dist-packages (from quandl->qiskit-aqua==0.8.1->qiskit) (1.15.0)\n",
            "Requirement already satisfied: more-itertools in /usr/local/lib/python3.6/dist-packages (from quandl->qiskit-aqua==0.8.1->qiskit) (8.6.0)\n",
            "Requirement already satisfied: inflection>=0.3.1 in /usr/local/lib/python3.6/dist-packages (from quandl->qiskit-aqua==0.8.1->qiskit) (0.5.1)\n",
            "Requirement already satisfied: joblib>=0.11 in /usr/local/lib/python3.6/dist-packages (from scikit-learn>=0.20.0->qiskit-aqua==0.8.1->qiskit) (0.17.0)\n",
            "Requirement already satisfied: lxml>=4.5.1 in /usr/local/lib/python3.6/dist-packages (from yfinance->qiskit-aqua==0.8.1->qiskit) (4.6.2)\n",
            "Requirement already satisfied: multitasking>=0.0.7 in /usr/local/lib/python3.6/dist-packages (from yfinance->qiskit-aqua==0.8.1->qiskit) (0.0.9)\n",
            "Requirement already satisfied: mpmath>=0.19 in /usr/local/lib/python3.6/dist-packages (from sympy>=1.3->qiskit-aqua==0.8.1->qiskit) (1.1.0)\n",
            "Requirement already satisfied: pytz>=2017.2 in /usr/local/lib/python3.6/dist-packages (from pandas->qiskit-aqua==0.8.1->qiskit) (2018.9)\n",
            "Requirement already satisfied: decorator>=4.3.0 in /usr/local/lib/python3.6/dist-packages (from networkx>=2.2->qiskit-terra==0.16.1->qiskit) (4.4.2)\n",
            "Requirement already satisfied: immutables>=0.9 in /usr/local/lib/python3.6/dist-packages (from contextvars>=2.4; python_version < \"3.7\"->qiskit-terra==0.16.1->qiskit) (0.14)\n",
            "Requirement already satisfied: ntlm-auth>=1.0.2 in /usr/local/lib/python3.6/dist-packages (from requests-ntlm>=1.1.0->qiskit-ibmq-provider==0.11.1->qiskit) (1.5.0)\n",
            "Requirement already satisfied: cryptography>=1.3 in /usr/local/lib/python3.6/dist-packages (from requests-ntlm>=1.1.0->qiskit-ibmq-provider==0.11.1->qiskit) (3.2.1)\n",
            "Requirement already satisfied: chardet<4,>=3.0.2 in /usr/local/lib/python3.6/dist-packages (from requests>=2.19->qiskit-ibmq-provider==0.11.1->qiskit) (3.0.4)\n",
            "Requirement already satisfied: certifi>=2017.4.17 in /usr/local/lib/python3.6/dist-packages (from requests>=2.19->qiskit-ibmq-provider==0.11.1->qiskit) (2020.11.8)\n",
            "Requirement already satisfied: idna<3,>=2.5 in /usr/local/lib/python3.6/dist-packages (from requests>=2.19->qiskit-ibmq-provider==0.11.1->qiskit) (2.10)\n",
            "Requirement already satisfied: cffi!=1.11.3,>=1.8 in /usr/local/lib/python3.6/dist-packages (from cryptography>=1.3->requests-ntlm>=1.1.0->qiskit-ibmq-provider==0.11.1->qiskit) (1.14.3)\n",
            "Requirement already satisfied: pycparser in /usr/local/lib/python3.6/dist-packages (from cffi!=1.11.3,>=1.8->cryptography>=1.3->requests-ntlm>=1.1.0->qiskit-ibmq-provider==0.11.1->qiskit) (2.20)\n"
          ],
          "name": "stdout"
        }
      ]
    },
    {
      "cell_type": "code",
      "metadata": {
        "id": "FRoE1d_QIxEE"
      },
      "source": [
        "from qiskit import IBMQ, Aer, QuantumCircuit, ClassicalRegister, QuantumRegister, execute\n",
        "from qiskit.providers.ibmq import least_busy\n",
        "from qiskit.quantum_info import Statevector\n",
        "from qiskit.visualization import plot_histogram"
      ],
      "execution_count": 3,
      "outputs": []
    },
    {
      "cell_type": "code",
      "metadata": {
        "id": "7g6aIZ2hJGx7"
      },
      "source": [
        "# Create a Quantum Register called \"qr\" with 2 qubits.\n",
        "qr = QuantumRegister(2,'qr')\n",
        "\n",
        "# Create a Classical Register called \"cr\" with 2 bits.\n",
        "cr = ClassicalRegister(2,'cr')"
      ],
      "execution_count": 4,
      "outputs": []
    },
    {
      "cell_type": "code",
      "metadata": {
        "id": "n34iQ1iXCXf4"
      },
      "source": [
        "\n",
        "qc =  QuantumCircuit(qr,cr)"
      ],
      "execution_count": 10,
      "outputs": []
    },
    {
      "cell_type": "code",
      "metadata": {
        "id": "RA3GOZ4JJ1xJ",
        "colab": {
          "base_uri": "https://localhost:8080/",
          "height": 184
        },
        "outputId": "bfb6c24a-3116-47bd-cf6d-63a0ca3af088"
      },
      "source": [
        "# Add the H gate in the Qubit 1, putting this qubit in superposition.\n",
        "\n",
        "#provider = IBMQ.get_provider(hub='ibm-q')\n",
        "\n",
        "qc.h(qr[1])\n",
        "\n",
        "# Add the CX gate on control qubit 1 and target qubit 0, putting the qubits in a Bell state i.e entanglement\n",
        "qc.cx(qr[1], qr[0])\n",
        "\n",
        "\n",
        "# Add a Measure gate to see the state.\n",
        "qc.measure(qr[0],cr[0])\n",
        "qc.measure(qr[1],cr[1])\n",
        "\n",
        "# Compile and execute the Quantum Program in the ibmqx5\n",
        "qc.draw(output='mpl')"
      ],
      "execution_count": 11,
      "outputs": [
        {
          "output_type": "execute_result",
          "data": {
            "image/png": "[encoded data removed]",
            "text/plain": [
              "<Figure size 335.906x204.68 with 1 Axes>"
            ]
          },
          "metadata": {
            "tags": []
          },
          "execution_count": 11
        }
      ]
    },
    {
      "cell_type": "code",
      "metadata": {
        "id": "fNpMzXOyq2iq"
      },
      "source": [
        "qasm_simulator = Aer.get_backend('qasm_simulator')\n",
        "shots = 1024\n",
        "result = results = execute(qc, backend=qasm_simulator, shots=shots).result()\n",
        "\n",
        "Ans=result.get_counts()"
      ],
      "execution_count": 12,
      "outputs": []
    },
    {
      "cell_type": "code",
      "metadata": {
        "colab": {
          "base_uri": "https://localhost:8080/",
          "height": 333
        },
        "id": "pBxqj3ausi2k",
        "outputId": "e7ead2a4-0b1d-4b78-e5a5-99fa340fb0eb"
      },
      "source": [
        "plot_histogram(Ans)"
      ],
      "execution_count": 13,
      "outputs": [
        {
          "output_type": "execute_result",
          "data": {
            "image/png": "[encoded data removed]",
            "text/plain": [
              "<Figure size 504x360 with 1 Axes>"
            ]
          },
          "metadata": {
            "tags": []
          },
          "execution_count": 13
        }
      ]
    },
    {
      "cell_type": "code",
      "metadata": {
        "id": "idMtx4-w14gn"
      },
      "source": [
        ""
      ],
      "execution_count": 9,
      "outputs": []
    }
  ]
}